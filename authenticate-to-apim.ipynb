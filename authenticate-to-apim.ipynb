{
 "cells": [
  {
   "cell_type": "markdown",
   "metadata": {},
   "source": [
    "# User Authentication using OAuth2 and APIM fronting Azure OpenAI"
   ]
  },
  {
   "cell_type": "code",
   "execution_count": 8,
   "metadata": {},
   "outputs": [],
   "source": [
    "tenant_id = \"YOUR_ENTRA_TENANT\" \n",
    "client_id = \"YOUR_CLIENT_ID\" \n",
    "apim_endpoint = \"https://YOUR_APIM_ENDPOINT.azure-api.net\"\n",
    "apim_key = \"YOUR_APIM_SUBSCRIPTION\" # an APIM subscription key\n",
    "openai_deployment_name = \"gpt-4o\"\n",
    "openai_api_version = \"2024-06-01\"\n"
   ]
  },
  {
   "cell_type": "code",
   "execution_count": null,
   "metadata": {},
   "outputs": [],
   "source": [
    "%pip install msal\n",
    "%pip install openai\n",
    "%pip install requests\n",
    "%pip install logging\n",
    "%pip install json"
   ]
  },
  {
   "cell_type": "markdown",
   "metadata": {},
   "source": [
    "##  Create a device flow to get the access token"
   ]
  },
  {
   "cell_type": "code",
   "execution_count": null,
   "metadata": {},
   "outputs": [],
   "source": [
    "import json\n",
    "import logging\n",
    "\n",
    "import requests\n",
    "import msal\n",
    "\n",
    "app = msal.PublicClientApplication(\n",
    "    client_id, authority=\"https://login.microsoftonline.com/\" + tenant_id)\n",
    "\n",
    "flow = app.initiate_device_flow(scopes=[\"User.Read\"])\n",
    "if \"user_code\" not in flow:\n",
    "    raise ValueError(\n",
    "        \"Fail to create device flow. Err: %s\" % json.dumps(flow, indent=4))\n",
    "\n",
    "print(flow[\"message\"])"
   ]
  },
  {
   "cell_type": "markdown",
   "metadata": {},
   "source": [
    "## Acquire the token and query the graph API"
   ]
  },
  {
   "cell_type": "code",
   "execution_count": null,
   "metadata": {},
   "outputs": [],
   "source": [
    "result = app.acquire_token_by_device_flow(flow)\n",
    "print(result) # debug\n",
    "if \"access_token\" in result:\n",
    "    access_token = result['access_token']\n",
    "    # Calling graph using the access token\n",
    "    graph_data = requests.get(  # Use token to call downstream service\n",
    "        \"https://graph.microsoft.com/v1.0/me\",\n",
    "        headers={'Authorization': 'Bearer ' + access_token},).json()\n",
    "    print(\"Graph API call result: %s\" % json.dumps(graph_data, indent=2))\n",
    "    # print(access_token) # Use a tool like https://jwt.io/ to decode the access token and see its contents\n",
    "else:\n",
    "    print(result.get(\"error\"))\n",
    "    print(result.get(\"error_description\"))\n",
    "    print(result.get(\"correlation_id\"))  # You may need this when reporting a bug"
   ]
  },
  {
   "cell_type": "markdown",
   "metadata": {},
   "source": [
    "## Test the API using a direct HTTP call"
   ]
  },
  {
   "cell_type": "code",
   "execution_count": null,
   "metadata": {},
   "outputs": [],
   "source": [
    "url = apim_endpoint + \"/openai/deployments/\" + openai_deployment_name + \"/chat/completions?api-version=\" + openai_api_version\n",
    "\n",
    "messages={\"messages\":[\n",
    "    {\"role\": \"system\", \"content\": \"You are a sarcastic unhelpful assistant.\"},\n",
    "    {\"role\": \"user\", \"content\": \"Can you tell me the time, please?\"}\n",
    "]}\n",
    "response = requests.post(url, headers = {'api-key':apim_key, 'Authorization': 'Bearer ' + access_token}, json = messages)\n",
    "print(\"status code: \", response.status_code)\n",
    "if (response.status_code == 200):\n",
    "    data = json.loads(response.text)\n",
    "    print(\"response: \", data.get(\"choices\")[0].get(\"message\").get(\"content\"))\n",
    "else:\n",
    "    print(response.text)"
   ]
  },
  {
   "cell_type": "markdown",
   "metadata": {},
   "source": [
    "## Test the API using the Azure OpenAI Python SDK"
   ]
  },
  {
   "cell_type": "code",
   "execution_count": null,
   "metadata": {},
   "outputs": [],
   "source": [
    "from openai import AzureOpenAI\n",
    "\n",
    "messages=[\n",
    "    {\"role\": \"system\", \"content\": \"You are a sarcastic unhelpful assistant.\"},\n",
    "    {\"role\": \"user\", \"content\": \"Can you tell me the time, please?\"}\n",
    "]\n",
    "client = AzureOpenAI(\n",
    "    azure_endpoint=apim_endpoint,\n",
    "    api_key=apim_key,\n",
    "    api_version=openai_api_version        \n",
    ")\n",
    "response = client.chat.completions.create(model=openai_deployment_name, messages=messages, extra_headers={\"Authorization\": \"Bearer \" + access_token})\n",
    "print(response.choices[0].message.content)"
   ]
  }
 ],
 "metadata": {
  "kernelspec": {
   "display_name": "Python 3",
   "language": "python",
   "name": "python3"
  },
  "language_info": {
   "codemirror_mode": {
    "name": "ipython",
    "version": 3
   },
   "file_extension": ".py",
   "mimetype": "text/x-python",
   "name": "python",
   "nbconvert_exporter": "python",
   "pygments_lexer": "ipython3",
   "version": "3.11.9"
  }
 },
 "nbformat": 4,
 "nbformat_minor": 2
}
